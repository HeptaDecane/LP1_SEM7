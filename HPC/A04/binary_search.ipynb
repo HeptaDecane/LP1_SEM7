{
  "nbformat": 4,
  "nbformat_minor": 0,
  "metadata": {
    "colab": {
      "name": "parallel_reduction.ipynb",
      "provenance": [],
      "authorship_tag": "ABX9TyM685lnHjmGetThOBLLFUnA",
      "include_colab_link": true
    },
    "kernelspec": {
      "name": "python3",
      "display_name": "Python 3"
    },
    "language_info": {
      "name": "python"
    },
    "accelerator": "GPU"
  },
  "cells": [
    {
      "cell_type": "markdown",
      "metadata": {
        "id": "view-in-github",
        "colab_type": "text"
      },
      "source": [
        "<a href=\"https://colab.research.google.com/github/HeptaDecane/LP1_SEM7/blob/main/HPC/A04/binary_search.ipynb\" target=\"_parent\"><img src=\"https://colab.research.google.com/assets/colab-badge.svg\" alt=\"Open In Colab\"/></a>"
      ]
    },
    {
      "cell_type": "code",
      "metadata": {
        "id": "D3haYU616kqw",
        "outputId": "1c4bb159-8241-42e2-90ca-df9914e5328b",
        "colab": {
          "base_uri": "https://localhost:8080/"
        }
      },
      "source": [
        "!nvcc --version"
      ],
      "execution_count": 1,
      "outputs": [
        {
          "output_type": "stream",
          "name": "stdout",
          "text": [
            "nvcc: NVIDIA (R) Cuda compiler driver\n",
            "Copyright (c) 2005-2020 NVIDIA Corporation\n",
            "Built on Mon_Oct_12_20:09:46_PDT_2020\n",
            "Cuda compilation tools, release 11.1, V11.1.105\n",
            "Build cuda_11.1.TC455_06.29190527_0\n"
          ]
        }
      ]
    },
    {
      "cell_type": "code",
      "metadata": {
        "id": "gcgdms8t1ufd"
      },
      "source": [
        "code = \"\"\"\n",
        "#include<iostream>\n",
        "\n",
        "#include<omp.h>\n",
        "\n",
        "#include<time.h>\n",
        "\n",
        "using namespace std;\n",
        "int c1[3];\n",
        "int binary_search(int a[], int low, int high, int key) {\n",
        "    int loc = -1;\n",
        "    int mid;\n",
        "    while (low <= high) {\n",
        "        mid = (high + low) / 2;\n",
        "        if (a[mid] == key) {\n",
        "            loc = mid;\n",
        "            break;\n",
        "        } \n",
        "        else {\n",
        "            #pragma omp parallel sections \n",
        "            {\n",
        "                //cout<<omp_get_thread_num();\n",
        "                #pragma omp section \n",
        "                {\n",
        "                    if (a[mid] < key) {\n",
        "                        low = mid + 1;\n",
        "                    }\n",
        "                }\n",
        "                #pragma omp section \n",
        "                {\n",
        "                    if (a[mid] > key) {\n",
        "                        high = mid - 1;\n",
        "                    }\n",
        "                }\n",
        "            }\n",
        "        }\n",
        "    }\n",
        "    return loc;\n",
        "}\n",
        "\n",
        "int main() {\n",
        "    int th = omp_get_max_threads();\n",
        "    cout << \"Max Threads : \" << th << endl;\n",
        "    omp_set_num_threads(2);\n",
        "    c1[1] = 0;\n",
        "    c1[2] = 0;\n",
        "    int a[1000000];\n",
        "    clock_t t1, t2;\n",
        "    int key = 0;\n",
        "    int loc, i;\n",
        "    for (int i = 0; i < 1000000; i++) {\n",
        "        a[i] = i;\n",
        "    }\n",
        "    key = 1000;\n",
        "    t1 = clock();\n",
        "    loc = binary_search(a, 0, 1000000, key);\n",
        "    t2 = clock();\n",
        "    if (loc == -1) {\n",
        "        cout << \"Not Found\";\n",
        "    } else {\n",
        "        cout << \"Found at \" << loc << endl;\n",
        "        //cout<<\"By Thread \"<<omp_get_thread_num()<<endl;\n",
        "    }\n",
        "    return 0;\n",
        "}\n",
        "\"\"\""
      ],
      "execution_count": 19,
      "outputs": []
    },
    {
      "cell_type": "code",
      "metadata": {
        "id": "nUJdzQBI1ybS"
      },
      "source": [
        "file = open('binary_search.cpp','w')\n",
        "file.write(code)\n",
        "file.close()"
      ],
      "execution_count": 20,
      "outputs": []
    },
    {
      "cell_type": "code",
      "metadata": {
        "id": "IBdj051Z2AZm"
      },
      "source": [
        "!g++ -fopenmp binary_search.cpp"
      ],
      "execution_count": 21,
      "outputs": []
    },
    {
      "cell_type": "code",
      "metadata": {
        "id": "jGoGEY8X2Fyl",
        "outputId": "a9085d3c-b34f-4a14-9a47-9be8c904704e",
        "colab": {
          "base_uri": "https://localhost:8080/"
        }
      },
      "source": [
        "!./a.out"
      ],
      "execution_count": 22,
      "outputs": [
        {
          "output_type": "stream",
          "name": "stdout",
          "text": [
            "Max Threads : 2\n",
            "Found at 1000\n"
          ]
        }
      ]
    }
  ]
}