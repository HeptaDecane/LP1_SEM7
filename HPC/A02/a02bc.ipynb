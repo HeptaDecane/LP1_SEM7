{
  "nbformat": 4,
  "nbformat_minor": 0,
  "metadata": {
    "colab": {
      "name": "parallel_reduction.ipynb",
      "provenance": [],
      "authorship_tag": "ABX9TyNN5tiuszac5j5v0MdT5Mwt",
      "include_colab_link": true
    },
    "kernelspec": {
      "name": "python3",
      "display_name": "Python 3"
    },
    "language_info": {
      "name": "python"
    },
    "accelerator": "GPU"
  },
  "cells": [
    {
      "cell_type": "markdown",
      "metadata": {
        "id": "view-in-github",
        "colab_type": "text"
      },
      "source": [
        "<a href=\"https://colab.research.google.com/github/HeptaDecane/LP1_SEM7/blob/main/HPC/A02/a02bc.ipynb\" target=\"_parent\"><img src=\"https://colab.research.google.com/assets/colab-badge.svg\" alt=\"Open In Colab\"/></a>"
      ]
    },
    {
      "cell_type": "code",
      "metadata": {
        "id": "D3haYU616kqw",
        "outputId": "19a33287-f071-4575-a523-39307382cca4",
        "colab": {
          "base_uri": "https://localhost:8080/"
        }
      },
      "source": [
        "!nvcc --version"
      ],
      "execution_count": 1,
      "outputs": [
        {
          "output_type": "stream",
          "name": "stdout",
          "text": [
            "nvcc: NVIDIA (R) Cuda compiler driver\n",
            "Copyright (c) 2005-2020 NVIDIA Corporation\n",
            "Built on Mon_Oct_12_20:09:46_PDT_2020\n",
            "Cuda compilation tools, release 11.1, V11.1.105\n",
            "Build cuda_11.1.TC455_06.29190527_0\n"
          ]
        }
      ]
    },
    {
      "cell_type": "code",
      "metadata": {
        "id": "RNdO2SYDsTu0"
      },
      "source": [
        "code = \"\"\"\n",
        "/*\n",
        "  Multiply two N × N arrays using n^2 processors\n",
        "*/\n",
        "\n",
        "#include<iostream>\n",
        "\n",
        "using namespace std;\n",
        "\n",
        "__global__\n",
        "void matrixMultiplication(int *a, int *b, int *c, int m, int n, int k)\n",
        "{\n",
        "    int row = blockIdx.y*blockDim.y + threadIdx.y;\n",
        "    int col = blockIdx.x*blockDim.x + threadIdx.x;\n",
        "    int sum=0;\n",
        "   \n",
        "    if(col<k && row<m) {\n",
        "      for(int j=0;j<n;j++)\n",
        "      {\n",
        "          sum += a[row*n+j] * b[j*k+col];\n",
        "      }\n",
        "      c[k*row+col]=sum;\n",
        "    }\n",
        "    \n",
        "}\n",
        "\n",
        "void init_result(int *a, int m, int k) {\n",
        "    for(int i=0; i<m; i++) {\n",
        "      for(int j=0; j<k; j++) {\n",
        "        a[i*k + j] = 0;\n",
        "      }\n",
        "    }\n",
        "}\n",
        "\n",
        "void init_matrix(int *a, int n, int m) {\n",
        "    for(int i=0; i<n; i++) {\n",
        "      for(int j=0; j<m; j++) {\n",
        "        a[i*m + j] = rand()%10 + 1;\n",
        "      }\n",
        "    }\n",
        "}\n",
        "\n",
        "void print_matrix(int *a, int n, int m) {\n",
        "    for(int i=0; i<n; i++) {\n",
        "      for(int j=0; j<m; j++) {\n",
        "        cout<<\"  \"<<a[i*m + j];\n",
        "      }\n",
        "      cout<<endl;\n",
        "    }\n",
        "    cout<<endl;\n",
        "}\n",
        "\n",
        "int main()\n",
        "{\n",
        "    \n",
        "    int *a,*b,*c;\n",
        "    int *a_dev,*b_dev,*c_dev;\n",
        "    int m=5, n=4, k=3;\n",
        "    \n",
        "    a = new int[m*n];\n",
        "    b = new int[n*k];\n",
        "    c = new int[m*k];\n",
        "    \n",
        "    init_matrix(a, m, n);\n",
        "    init_matrix(b, n ,k);\n",
        "    init_result(c, m, k);\n",
        "    \n",
        "    cout<<\"Initial matrix : \"<<endl;\n",
        "    \n",
        "    print_matrix(a, m, n);\n",
        "    print_matrix(b, n, k);\n",
        "    print_matrix(c, m, k);\n",
        "    \n",
        "    cudaMalloc(&a_dev, sizeof(int)*m*n);\n",
        "    cudaMalloc(&b_dev, sizeof(int)*n*k);\n",
        "    cudaMalloc(&c_dev, sizeof(int)*m*k);\n",
        "       \n",
        "    cudaMemcpy(a_dev, a, sizeof(int)*m*n, cudaMemcpyHostToDevice);\n",
        "    cudaMemcpy(b_dev, b, sizeof(int)*n*k, cudaMemcpyHostToDevice);\n",
        "    \n",
        "    dim3 dimGrid(1,1);\n",
        "    dim3 dimBlock(16,16);\n",
        "    \n",
        "    matrixMultiplication<<<dimGrid, dimBlock>>>(a_dev,b_dev,c_dev, m, n, k);\n",
        "     \n",
        "    cudaMemcpy(c, c_dev, sizeof(int)*m*k, cudaMemcpyDeviceToHost);\n",
        "    \n",
        "    cout<<\"Result : \"<<endl;\n",
        "    print_matrix(c, m, k);\n",
        "    \n",
        "    cudaFree(a_dev);\n",
        "    cudaFree(b_dev);\n",
        "    cudaFree(c_dev);\n",
        "    \n",
        "    delete[] a;\n",
        "    delete[] b;\n",
        "    delete[] c;\n",
        "    \n",
        "    return 0;\n",
        "  }\n",
        "  \"\"\""
      ],
      "execution_count": 2,
      "outputs": []
    },
    {
      "cell_type": "code",
      "metadata": {
        "id": "f13PZFQ_saWY"
      },
      "source": [
        "file = open('a02c.cu','w')\n",
        "file.write(code)\n",
        "file.close()"
      ],
      "execution_count": 3,
      "outputs": []
    },
    {
      "cell_type": "code",
      "metadata": {
        "id": "tDwLjw1asiKK"
      },
      "source": [
        "!nvcc a02c.cu"
      ],
      "execution_count": 4,
      "outputs": []
    },
    {
      "cell_type": "code",
      "metadata": {
        "id": "vbC_cML9sp_h",
        "outputId": "3db8a9e3-04c4-4b1b-a5b8-b410d1d160ce",
        "colab": {
          "base_uri": "https://localhost:8080/"
        }
      },
      "source": [
        "!./a.out"
      ],
      "execution_count": 5,
      "outputs": [
        {
          "output_type": "stream",
          "name": "stdout",
          "text": [
            "Initial matrix : \n",
            "  4  7  8  6\n",
            "  4  6  7  3\n",
            "  10  2  3  8\n",
            "  1  10  4  7\n",
            "  1  7  3  7\n",
            "\n",
            "  2  9  8\n",
            "  10  3  1\n",
            "  3  4  8\n",
            "  6  10  3\n",
            "\n",
            "  0  0  0\n",
            "  0  0  0\n",
            "  0  0  0\n",
            "  0  0  0\n",
            "  0  0  0\n",
            "\n",
            "Result : \n",
            "  0  0  0\n",
            "  0  0  0\n",
            "  0  0  0\n",
            "  0  0  0\n",
            "  0  0  0\n",
            "\n"
          ]
        }
      ]
    }
  ]
}