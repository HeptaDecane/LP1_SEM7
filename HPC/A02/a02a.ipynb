{
  "nbformat": 4,
  "nbformat_minor": 0,
  "metadata": {
    "colab": {
      "name": "parallel_reduction.ipynb",
      "provenance": [],
      "authorship_tag": "ABX9TyOJucWRQV8Ve9S7INnfn0HZ",
      "include_colab_link": true
    },
    "kernelspec": {
      "name": "python3",
      "display_name": "Python 3"
    },
    "language_info": {
      "name": "python"
    },
    "accelerator": "GPU"
  },
  "cells": [
    {
      "cell_type": "markdown",
      "metadata": {
        "id": "view-in-github",
        "colab_type": "text"
      },
      "source": [
        "<a href=\"https://colab.research.google.com/github/HeptaDecane/LP1_SEM7/blob/main/HPC/A02/a02a.ipynb\" target=\"_parent\"><img src=\"https://colab.research.google.com/assets/colab-badge.svg\" alt=\"Open In Colab\"/></a>"
      ]
    },
    {
      "cell_type": "code",
      "metadata": {
        "id": "D3haYU616kqw",
        "outputId": "1924c7c6-ba0c-428f-ad7b-d8e451c3c071",
        "colab": {
          "base_uri": "https://localhost:8080/"
        }
      },
      "source": [
        "!nvcc --version"
      ],
      "execution_count": 1,
      "outputs": [
        {
          "output_type": "stream",
          "name": "stdout",
          "text": [
            "nvcc: NVIDIA (R) Cuda compiler driver\n",
            "Copyright (c) 2005-2020 NVIDIA Corporation\n",
            "Built on Mon_Oct_12_20:09:46_PDT_2020\n",
            "Cuda compilation tools, release 11.1, V11.1.105\n",
            "Build cuda_11.1.TC455_06.29190527_0\n"
          ]
        }
      ]
    },
    {
      "cell_type": "code",
      "metadata": {
        "id": "4jv0U9_LByng"
      },
      "source": [
        "code = \"\"\"\n",
        "/*\n",
        "    Add two large vectors\n",
        "*/\n",
        "\n",
        "/*\n",
        "    Add two large vectors\n",
        "*/\n",
        "\n",
        "#include<iostream>\n",
        "#include<cstdlib>\n",
        "using namespace std;\n",
        "\n",
        "__global__ void vectorAdd(int *a, int *b, int *result, int n) {\n",
        "    int tid = blockIdx.x*blockDim.x + threadIdx.x;\n",
        "    if(tid <= n) {\n",
        "        result[tid] = a[tid] + b[tid];\n",
        "    }\n",
        "}\n",
        "\n",
        "void print_array(int *a, int N) {\n",
        "    for(int i=0; i<N; i++) {\n",
        "        cout<<\"  \"<<a[i];\n",
        "    }\n",
        "    cout<<endl;\n",
        "}\n",
        "\n",
        "void init_array(int *a, int N) {\n",
        "    for(int i=0; i<N; i++) {\n",
        "        a[i] = rand()%10 + 1;\n",
        "    }\n",
        "}\n",
        "\n",
        "int main() {\n",
        "    int *a, *b, *c;\n",
        "    int *a_dev, *b_dev, *c_dev;\n",
        "    int n = 8;           //24\n",
        "    \n",
        "    a = (int*)malloc(n * sizeof(n));\n",
        "    b = (int*)malloc(n * sizeof(n));\n",
        "    c = (int*)malloc(n * sizeof(n));\n",
        "\n",
        "    int size = n * sizeof(int);\n",
        "    \n",
        "    cudaMalloc(&a_dev, size);\n",
        "    cudaMalloc(&b_dev, size);\n",
        "    cudaMalloc(&c_dev, size);\n",
        "    \n",
        "    init_array(a, n);\n",
        "    init_array(b, n);\n",
        "    \n",
        "    print_array(a, n);\n",
        "    print_array(b, n);\n",
        "        \n",
        "    cudaMemcpy(a_dev, a, size, cudaMemcpyHostToDevice);\n",
        "    cudaMemcpy(b_dev, b, size, cudaMemcpyHostToDevice);\n",
        "\n",
        "    vectorAdd<<<1,1024>>>(a_dev, b_dev, c_dev, n);\n",
        "    \n",
        "    cudaMemcpy(c, c_dev, size, cudaMemcpyDeviceToHost);\n",
        "    \n",
        "    cout<<\"Results : \"<<endl;\n",
        "    print_array(c, n);\n",
        "\n",
        "        \n",
        "    cudaFree(a_dev);\n",
        "    cudaFree(b_dev);\n",
        "    cudaFree(c_dev);\n",
        "        \n",
        "    return 0;\n",
        "}\n",
        "\"\"\""
      ],
      "execution_count": 25,
      "outputs": []
    },
    {
      "cell_type": "code",
      "metadata": {
        "id": "NwMV7wAWB8VO"
      },
      "source": [
        "file = open('a02a.cu','w')\n",
        "file.write(code)\n",
        "file.close()"
      ],
      "execution_count": 26,
      "outputs": []
    },
    {
      "cell_type": "code",
      "metadata": {
        "id": "3uH8JGwZCHa7"
      },
      "source": [
        "!nvcc a02a.cu"
      ],
      "execution_count": 27,
      "outputs": []
    },
    {
      "cell_type": "code",
      "metadata": {
        "id": "o6ylqHwECQXF",
        "outputId": "30cf4ac3-cc66-4417-9192-36dfcc114d9f",
        "colab": {
          "base_uri": "https://localhost:8080/"
        }
      },
      "source": [
        "!./a.out"
      ],
      "execution_count": 28,
      "outputs": [
        {
          "output_type": "stream",
          "name": "stdout",
          "text": [
            "  4  7  8  6  4  6  7  3\n",
            "  10  2  3  8  1  10  4  7\n",
            "Results : \n",
            "  0  0  0  0  0  0  0  0\n"
          ]
        }
      ]
    }
  ]
}