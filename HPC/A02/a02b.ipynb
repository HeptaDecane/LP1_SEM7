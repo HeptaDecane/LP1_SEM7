{
  "nbformat": 4,
  "nbformat_minor": 0,
  "metadata": {
    "colab": {
      "name": "parallel_reduction.ipynb",
      "provenance": [],
      "authorship_tag": "ABX9TyMv+jaIBz1CS+1joKTxa0IT",
      "include_colab_link": true
    },
    "kernelspec": {
      "name": "python3",
      "display_name": "Python 3"
    },
    "language_info": {
      "name": "python"
    },
    "accelerator": "GPU"
  },
  "cells": [
    {
      "cell_type": "markdown",
      "metadata": {
        "id": "view-in-github",
        "colab_type": "text"
      },
      "source": [
        "<a href=\"https://colab.research.google.com/github/HeptaDecane/LP1_SEM7/blob/main/HPC/A02/a02b.ipynb\" target=\"_parent\"><img src=\"https://colab.research.google.com/assets/colab-badge.svg\" alt=\"Open In Colab\"/></a>"
      ]
    },
    {
      "cell_type": "code",
      "metadata": {
        "id": "D3haYU616kqw",
        "colab": {
          "base_uri": "https://localhost:8080/"
        },
        "outputId": "a09a9e0d-3b3f-4498-8439-71ac1f6282a3"
      },
      "source": [
        "!nvcc --version"
      ],
      "execution_count": 1,
      "outputs": [
        {
          "output_type": "stream",
          "name": "stdout",
          "text": [
            "nvcc: NVIDIA (R) Cuda compiler driver\n",
            "Copyright (c) 2005-2020 NVIDIA Corporation\n",
            "Built on Mon_Oct_12_20:09:46_PDT_2020\n",
            "Cuda compilation tools, release 11.1, V11.1.105\n",
            "Build cuda_11.1.TC455_06.29190527_0\n"
          ]
        }
      ]
    },
    {
      "cell_type": "code",
      "metadata": {
        "id": "OHNpvY5TEzBV"
      },
      "source": [
        "code = \"\"\"\n",
        "/*\n",
        "    Multiply Vector and Matrix\n",
        "*/\n",
        "\n",
        "#include<iostream>\n",
        "\n",
        "using namespace std;\n",
        "\n",
        "__global__\n",
        "void matrixVector(int *vec, int *mat, int *result, int n, int m)\n",
        "{\n",
        "    int tid = blockIdx.x*blockDim.x + threadIdx.x;\n",
        "    int sum=0;\n",
        "    \n",
        "    if(tid <= n) {\n",
        "        for(int i=0; i<n; i++) {\n",
        "            sum += vec[i]*mat[(i*m) + tid];\n",
        "        }\n",
        "        result[tid] = sum;\n",
        "    }\n",
        "}\n",
        "\n",
        "void init_array(int *a, int n) {\n",
        "    for(int i=0; i<n; i++)\n",
        "      a[i] = rand()%n + 1;\n",
        "}\n",
        "\n",
        "void init_matrix(int *a, int n, int m) {\n",
        "    for(int i=0; i<n; i++) {\n",
        "        for(int j=0; j<m; j++) {\n",
        "            a[i*m + j] = rand()%n + 1;\n",
        "        }\n",
        "    }\n",
        "}\n",
        "\n",
        "void print_array(int *a, int n) {\n",
        "    for(int i=0; i<n; i++) {\n",
        "        cout<<\"  \"<<a[i];\n",
        "    }\n",
        "    cout<<endl;\n",
        "}\n",
        "\n",
        "void print_matrix(int *a, int n, int m) {\n",
        "    for(int i=0; i<n; i++) {\n",
        "        for(int j=0; j<m; j++)\n",
        "          cout<<\"  \"<<a[i*m + j];\n",
        "        cout<<endl;\n",
        "    }\n",
        "}\n",
        "\n",
        "int main() {\n",
        "    int *a, *b, *c;\n",
        "    int *a_dev, *b_dev, *c_dev;\n",
        "    \n",
        "    int n = 3;\n",
        "    int m = 4;\n",
        "    \n",
        "    a = new int[n];\n",
        "    b = new int[n*m];\n",
        "    c = new int[m];\n",
        "    \n",
        "    init_array(a, n);\n",
        "    init_matrix(b, n, m);\n",
        "        \n",
        "    cout<<\"Initial array : \"<<endl;\n",
        "    print_array(a, n);\n",
        "    cout<<\"Initial matrix : \"<<endl;\n",
        "    print_matrix(b, n, m);\n",
        "    cout<<\"Initial resultant array : \"<<endl;\n",
        "    print_array(c, m);\n",
        "    cout<<endl;\n",
        "    \n",
        "    cudaMalloc(&a_dev, sizeof(int)*n);\n",
        "    cudaMalloc(&b_dev, sizeof(int)*n*m);\n",
        "    cudaMalloc(&c_dev, sizeof(int)*m);\n",
        "    \n",
        "    cudaMemcpy(a_dev, a, sizeof(int)*n, cudaMemcpyHostToDevice);\n",
        "    cudaMemcpy(b_dev, b, sizeof(int)*n*m, cudaMemcpyHostToDevice);\n",
        "    \n",
        "    matrixVector<<<m/256+1, 256>>>(a_dev, b_dev, c_dev, n, m);\n",
        "    \n",
        "    cudaMemcpy(c, c_dev, sizeof(int)*m, cudaMemcpyDeviceToHost);\n",
        "    \n",
        "    cout<<\"Results : \"<<endl;\n",
        "    print_array(c, m);\n",
        "    \n",
        "    cudaFree(a_dev);\n",
        "    cudaFree(b_dev);\n",
        "    cudaFree(c_dev);\n",
        "    \n",
        "    delete[] a;\n",
        "    delete[] b;\n",
        "    delete[] c;\n",
        "    \n",
        "    return 0;\n",
        "}\n",
        "\"\"\""
      ],
      "execution_count": 2,
      "outputs": []
    },
    {
      "cell_type": "code",
      "metadata": {
        "id": "tESdU6k6FG5o"
      },
      "source": [
        "file = open('a02b.cu','w')\n",
        "file.write(code)\n",
        "file.close()"
      ],
      "execution_count": 3,
      "outputs": []
    },
    {
      "cell_type": "code",
      "metadata": {
        "id": "mWW5cgOTFQXO"
      },
      "source": [
        "!nvcc a02b.cu"
      ],
      "execution_count": 4,
      "outputs": []
    },
    {
      "cell_type": "code",
      "metadata": {
        "id": "dMqEgRGXFT3-",
        "colab": {
          "base_uri": "https://localhost:8080/"
        },
        "outputId": "da30e292-48d8-4164-fa09-0880766fc946"
      },
      "source": [
        "!./a.out"
      ],
      "execution_count": 5,
      "outputs": [
        {
          "output_type": "stream",
          "name": "stdout",
          "text": [
            "Initial array : \n",
            "  2  2  1\n",
            "Initial matrix : \n",
            "  2  3  2  2\n",
            "  1  1  2  3\n",
            "  2  3  2  3\n",
            "Initial resultant array : \n",
            "  0  0  0  0\n",
            "\n",
            "Results : \n",
            "  0  0  0  0\n"
          ]
        }
      ]
    }
  ]
}