{
  "nbformat": 4,
  "nbformat_minor": 0,
  "metadata": {
    "colab": {
      "name": "notebook.ipynb",
      "provenance": [],
      "authorship_tag": "ABX9TyOZQ/1Q8J7VTHub02zcbWIx",
      "include_colab_link": true
    },
    "kernelspec": {
      "name": "python3",
      "display_name": "Python 3"
    },
    "language_info": {
      "name": "python"
    },
    "accelerator": "GPU"
  },
  "cells": [
    {
      "cell_type": "markdown",
      "metadata": {
        "id": "view-in-github",
        "colab_type": "text"
      },
      "source": [
        "<a href=\"https://colab.research.google.com/github/HeptaDecane/LP1_SEM7/blob/main/CudaSandbox/notebook.ipynb\" target=\"_parent\"><img src=\"https://colab.research.google.com/assets/colab-badge.svg\" alt=\"Open In Colab\"/></a>"
      ]
    },
    {
      "cell_type": "code",
      "metadata": {
        "id": "9ubbOU5nOb63",
        "colab": {
          "base_uri": "https://localhost:8080/"
        },
        "outputId": "f1a3cbea-104f-41f4-f105-056939d9796e"
      },
      "source": [
        "!wget https://developer.nvidia.com/compute/cuda/9.2/Prod/local_installers/cuda-repo-ubuntu1604-9-2-local_9.2.88-1_amd64 -O cuda-repo-ubuntu1604-9-2-local_9.2.88-1_amd64.deb\n",
        "!dpkg -i cuda-repo-ubuntu1604-9-2-local_9.2.88-1_amd64.deb\n",
        "!apt-key add /var/cuda-repo-9-2-local/7fa2af80.pub\n",
        "!apt-get update\n",
        "!apt-get install cuda-9.2"
      ],
      "execution_count": 1,
      "outputs": [
        {
          "output_type": "stream",
          "name": "stdout",
          "text": [
            "--2021-11-26 06:21:36--  https://developer.nvidia.com/compute/cuda/9.2/Prod/local_installers/cuda-repo-ubuntu1604-9-2-local_9.2.88-1_amd64\n",
            "Resolving developer.nvidia.com (developer.nvidia.com)... 152.199.39.144\n",
            "Connecting to developer.nvidia.com (developer.nvidia.com)|152.199.39.144|:443... connected.\n",
            "HTTP request sent, awaiting response... 301 Moved Permanently\n",
            "Location: https://developer.nvidia.com/compute/cuda/9.2/prod/local_installers/cuda-repo-ubuntu1604-9-2-local_9.2.88-1_amd64 [following]\n",
            "--2021-11-26 06:21:37--  https://developer.nvidia.com/compute/cuda/9.2/prod/local_installers/cuda-repo-ubuntu1604-9-2-local_9.2.88-1_amd64\n",
            "Reusing existing connection to developer.nvidia.com:443.\n",
            "HTTP request sent, awaiting response... 302 Found\n",
            "Location: https://developer.download.nvidia.com/compute/cuda/9.2/secure/Prod/local_installers/cuda-repo-ubuntu1604-9-2-local_9.2.88-1_amd64.deb?RtxPJ9eFfwTErKZ5fwrX3vccCUW6hQQw6OubHBhUWLmZJeWOxjFPU9VZCM3aQ4dfmVUOW_smynIu87YEeoRaenB93sPZu910haC2nYr4ayDJEkGyZejinZ2kRvwc6hC12ZHtHSZpSi53nJ__mQiqB2TqY0SAqEfBNnFXJW45eOYmbFXpl4JQrLf_wDtnInbNjuvWxuHCAiUAAumMes4 [following]\n",
            "--2021-11-26 06:21:38--  https://developer.download.nvidia.com/compute/cuda/9.2/secure/Prod/local_installers/cuda-repo-ubuntu1604-9-2-local_9.2.88-1_amd64.deb?RtxPJ9eFfwTErKZ5fwrX3vccCUW6hQQw6OubHBhUWLmZJeWOxjFPU9VZCM3aQ4dfmVUOW_smynIu87YEeoRaenB93sPZu910haC2nYr4ayDJEkGyZejinZ2kRvwc6hC12ZHtHSZpSi53nJ__mQiqB2TqY0SAqEfBNnFXJW45eOYmbFXpl4JQrLf_wDtnInbNjuvWxuHCAiUAAumMes4\n",
            "Resolving developer.download.nvidia.com (developer.download.nvidia.com)... 152.199.39.144\n",
            "Connecting to developer.download.nvidia.com (developer.download.nvidia.com)|152.199.39.144|:443... connected.\n",
            "HTTP request sent, awaiting response... 200 OK\n",
            "Length: 1267391958 (1.2G) [application/x-deb]\n",
            "Saving to: ‘cuda-repo-ubuntu1604-9-2-local_9.2.88-1_amd64.deb’\n",
            "\n",
            "cuda-repo-ubuntu160 100%[===================>]   1.18G   153MB/s    in 7.9s    \n",
            "\n",
            "2021-11-26 06:21:46 (153 MB/s) - ‘cuda-repo-ubuntu1604-9-2-local_9.2.88-1_amd64.deb’ saved [1267391958/1267391958]\n",
            "\n",
            "Selecting previously unselected package cuda-repo-ubuntu1604-9-2-local.\n",
            "(Reading database ... 155222 files and directories currently installed.)\n",
            "Preparing to unpack cuda-repo-ubuntu1604-9-2-local_9.2.88-1_amd64.deb ...\n",
            "Unpacking cuda-repo-ubuntu1604-9-2-local (9.2.88-1) ...\n",
            "Setting up cuda-repo-ubuntu1604-9-2-local (9.2.88-1) ...\n",
            "OK\n",
            "Get:1 file:/var/cuda-repo-9-2-local  InRelease\n",
            "Ign:1 file:/var/cuda-repo-9-2-local  InRelease\n",
            "Get:2 file:/var/cuda-repo-9-2-local  Release [574 B]\n",
            "Get:2 file:/var/cuda-repo-9-2-local  Release [574 B]\n",
            "Get:3 file:/var/cuda-repo-9-2-local  Release.gpg [819 B]\n",
            "Get:3 file:/var/cuda-repo-9-2-local  Release.gpg [819 B]\n",
            "Get:4 https://cloud.r-project.org/bin/linux/ubuntu bionic-cran40/ InRelease [3,626 B]\n",
            "Get:5 file:/var/cuda-repo-9-2-local  Packages [18.7 kB]\n",
            "Ign:6 https://developer.download.nvidia.com/compute/cuda/repos/ubuntu1804/x86_64  InRelease\n",
            "Ign:7 https://developer.download.nvidia.com/compute/machine-learning/repos/ubuntu1804/x86_64  InRelease\n",
            "Get:8 https://developer.download.nvidia.com/compute/cuda/repos/ubuntu1804/x86_64  Release [696 B]\n",
            "Hit:9 https://developer.download.nvidia.com/compute/machine-learning/repos/ubuntu1804/x86_64  Release\n",
            "Get:10 http://security.ubuntu.com/ubuntu bionic-security InRelease [88.7 kB]\n",
            "Get:11 http://ppa.launchpad.net/c2d4u.team/c2d4u4.0+/ubuntu bionic InRelease [15.9 kB]\n",
            "Hit:12 http://archive.ubuntu.com/ubuntu bionic InRelease\n",
            "Get:13 https://developer.download.nvidia.com/compute/cuda/repos/ubuntu1804/x86_64  Release.gpg [836 B]\n",
            "Get:15 http://archive.ubuntu.com/ubuntu bionic-updates InRelease [88.7 kB]\n",
            "Get:16 https://developer.download.nvidia.com/compute/cuda/repos/ubuntu1804/x86_64  Packages [828 kB]\n",
            "Hit:17 http://ppa.launchpad.net/cran/libgit2/ubuntu bionic InRelease\n",
            "Get:18 http://archive.ubuntu.com/ubuntu bionic-backports InRelease [74.6 kB]\n",
            "Hit:19 http://ppa.launchpad.net/deadsnakes/ppa/ubuntu bionic InRelease\n",
            "Get:20 http://security.ubuntu.com/ubuntu bionic-security/main amd64 Packages [2,430 kB]\n",
            "Get:21 http://archive.ubuntu.com/ubuntu bionic-updates/universe amd64 Packages [2,224 kB]\n",
            "Hit:22 http://ppa.launchpad.net/graphics-drivers/ppa/ubuntu bionic InRelease\n",
            "Get:23 http://ppa.launchpad.net/c2d4u.team/c2d4u4.0+/ubuntu bionic/main Sources [1,813 kB]\n",
            "Get:24 http://security.ubuntu.com/ubuntu bionic-security/universe amd64 Packages [1,442 kB]\n",
            "Get:25 http://archive.ubuntu.com/ubuntu bionic-updates/main amd64 Packages [2,868 kB]\n",
            "Get:26 http://ppa.launchpad.net/c2d4u.team/c2d4u4.0+/ubuntu bionic/main amd64 Packages [930 kB]\n",
            "Fetched 12.8 MB in 6s (2,101 kB/s)\n",
            "Reading package lists... Done\n",
            "Reading package lists... Done\n",
            "Building dependency tree       \n",
            "Reading state information... Done\n",
            "Note, selecting 'cuda-9-2' for regex 'cuda-9.2'\n",
            "Note, selecting 'libcuda-9.2-1' for regex 'cuda-9.2'\n",
            "The following additional packages will be installed:\n",
            "  cuda-command-line-tools-9-2 cuda-compiler-9-2 cuda-cublas-9-2\n",
            "  cuda-cublas-dev-9-2 cuda-cudart-9-2 cuda-cudart-dev-9-2 cuda-cufft-9-2\n",
            "  cuda-cufft-dev-9-2 cuda-cuobjdump-9-2 cuda-cupti-9-2 cuda-curand-9-2\n",
            "  cuda-curand-dev-9-2 cuda-cusolver-9-2 cuda-cusolver-dev-9-2\n",
            "  cuda-cusparse-9-2 cuda-cusparse-dev-9-2 cuda-demo-suite-9-2\n",
            "  cuda-documentation-9-2 cuda-driver-dev-9-2 cuda-gdb-9-2\n",
            "  cuda-gpu-library-advisor-9-2 cuda-libraries-9-2 cuda-libraries-dev-9-2\n",
            "  cuda-license-9-2 cuda-memcheck-9-2 cuda-misc-headers-9-2 cuda-npp-9-2\n",
            "  cuda-npp-dev-9-2 cuda-nsight-9-2 cuda-nvcc-9-2 cuda-nvdisasm-9-2\n",
            "  cuda-nvgraph-9-2 cuda-nvgraph-dev-9-2 cuda-nvml-dev-9-2 cuda-nvprof-9-2\n",
            "  cuda-nvprune-9-2 cuda-nvrtc-9-2 cuda-nvrtc-dev-9-2 cuda-nvtx-9-2\n",
            "  cuda-nvvp-9-2 cuda-runtime-9-2 cuda-samples-9-2 cuda-toolkit-9-2\n",
            "  cuda-tools-9-2 cuda-visual-tools-9-2\n",
            "The following NEW packages will be installed:\n",
            "  cuda-9-2 cuda-command-line-tools-9-2 cuda-compiler-9-2 cuda-cublas-9-2\n",
            "  cuda-cublas-dev-9-2 cuda-cudart-9-2 cuda-cudart-dev-9-2 cuda-cufft-9-2\n",
            "  cuda-cufft-dev-9-2 cuda-cuobjdump-9-2 cuda-cupti-9-2 cuda-curand-9-2\n",
            "  cuda-curand-dev-9-2 cuda-cusolver-9-2 cuda-cusolver-dev-9-2\n",
            "  cuda-cusparse-9-2 cuda-cusparse-dev-9-2 cuda-demo-suite-9-2\n",
            "  cuda-documentation-9-2 cuda-driver-dev-9-2 cuda-gdb-9-2\n",
            "  cuda-gpu-library-advisor-9-2 cuda-libraries-9-2 cuda-libraries-dev-9-2\n",
            "  cuda-license-9-2 cuda-memcheck-9-2 cuda-misc-headers-9-2 cuda-npp-9-2\n",
            "  cuda-npp-dev-9-2 cuda-nsight-9-2 cuda-nvcc-9-2 cuda-nvdisasm-9-2\n",
            "  cuda-nvgraph-9-2 cuda-nvgraph-dev-9-2 cuda-nvml-dev-9-2 cuda-nvprof-9-2\n",
            "  cuda-nvprune-9-2 cuda-nvrtc-9-2 cuda-nvrtc-dev-9-2 cuda-nvtx-9-2\n",
            "  cuda-nvvp-9-2 cuda-runtime-9-2 cuda-samples-9-2 cuda-toolkit-9-2\n",
            "  cuda-tools-9-2 cuda-visual-tools-9-2\n",
            "0 upgraded, 46 newly installed, 0 to remove and 39 not upgraded.\n",
            "Need to get 0 B/1,146 MB of archives.\n",
            "After this operation, 2,642 MB of additional disk space will be used.\n",
            "Get:1 file:/var/cuda-repo-9-2-local  cuda-license-9-2 9.2.88-1 [22.0 kB]\n",
            "Get:2 file:/var/cuda-repo-9-2-local  cuda-misc-headers-9-2 9.2.88-1 [640 kB]\n",
            "Get:3 file:/var/cuda-repo-9-2-local  cuda-nvcc-9-2 9.2.88-1 [15.4 MB]\n",
            "Get:4 file:/var/cuda-repo-9-2-local  cuda-cuobjdump-9-2 9.2.88-1 [129 kB]\n",
            "Get:5 file:/var/cuda-repo-9-2-local  cuda-nvprune-9-2 9.2.88-1 [36.7 kB]\n",
            "Get:6 file:/var/cuda-repo-9-2-local  cuda-compiler-9-2 9.2.88-1 [2,518 B]\n",
            "Get:7 file:/var/cuda-repo-9-2-local  cuda-nvdisasm-9-2 9.2.88-1 [17.4 MB]\n",
            "Get:8 file:/var/cuda-repo-9-2-local  cuda-gdb-9-2 9.2.88-1 [2,765 kB]\n",
            "Get:9 file:/var/cuda-repo-9-2-local  cuda-nvprof-9-2 9.2.88-1 [4,737 kB]\n",
            "Get:10 file:/var/cuda-repo-9-2-local  cuda-memcheck-9-2 9.2.88-1 [137 kB]\n",
            "Get:11 file:/var/cuda-repo-9-2-local  cuda-cudart-9-2 9.2.88-1 [97.8 kB]\n",
            "Get:12 file:/var/cuda-repo-9-2-local  cuda-driver-dev-9-2 9.2.88-1 [11.1 kB]\n",
            "Get:13 file:/var/cuda-repo-9-2-local  cuda-cudart-dev-9-2 9.2.88-1 [718 kB]\n",
            "Get:14 file:/var/cuda-repo-9-2-local  cuda-cupti-9-2 9.2.88-1 [1,537 kB]\n",
            "Get:15 file:/var/cuda-repo-9-2-local  cuda-gpu-library-advisor-9-2 9.2.88-1 [1,002 kB]\n",
            "Get:16 file:/var/cuda-repo-9-2-local  cuda-nvtx-9-2 9.2.88-1 [24.3 kB]\n",
            "Get:17 file:/var/cuda-repo-9-2-local  cuda-command-line-tools-9-2 9.2.88-1 [26.3 kB]\n",
            "Get:18 file:/var/cuda-repo-9-2-local  cuda-nsight-9-2 9.2.88-1 [2,580 B]\n",
            "Get:19 file:/var/cuda-repo-9-2-local  cuda-nvvp-9-2 9.2.88-1 [2,528 B]\n",
            "Get:20 file:/var/cuda-repo-9-2-local  cuda-nvrtc-9-2 9.2.88-1 [5,908 kB]\n",
            "Get:21 file:/var/cuda-repo-9-2-local  cuda-nvrtc-dev-9-2 9.2.88-1 [9,318 B]\n",
            "Get:22 file:/var/cuda-repo-9-2-local  cuda-cusolver-9-2 9.2.88-1 [31.1 MB]\n",
            "Get:23 file:/var/cuda-repo-9-2-local  cuda-cusolver-dev-9-2 9.2.88-1 [8,184 kB]\n",
            "Get:24 file:/var/cuda-repo-9-2-local  cuda-cublas-9-2 9.2.88-1 [24.9 MB]\n",
            "Get:25 file:/var/cuda-repo-9-2-local  cuda-cublas-dev-9-2 9.2.88-1 [49.1 MB]\n",
            "Get:26 file:/var/cuda-repo-9-2-local  cuda-cufft-9-2 9.2.88-1 [51.5 MB]\n",
            "Get:27 file:/var/cuda-repo-9-2-local  cuda-cufft-dev-9-2 9.2.88-1 [106 MB]\n",
            "Get:28 file:/var/cuda-repo-9-2-local  cuda-curand-9-2 9.2.88-1 [38.8 MB]\n",
            "Get:29 file:/var/cuda-repo-9-2-local  cuda-curand-dev-9-2 9.2.88-1 [57.8 MB]\n",
            "Get:30 file:/var/cuda-repo-9-2-local  cuda-cusparse-9-2 9.2.88-1 [27.6 MB]\n",
            "Get:31 file:/var/cuda-repo-9-2-local  cuda-cusparse-dev-9-2 9.2.88-1 [27.8 MB]\n",
            "Get:32 file:/var/cuda-repo-9-2-local  cuda-npp-9-2 9.2.88-1 [52.1 MB]\n",
            "Get:33 file:/var/cuda-repo-9-2-local  cuda-npp-dev-9-2 9.2.88-1 [52.0 MB]\n",
            "Get:34 file:/var/cuda-repo-9-2-local  cuda-nvml-dev-9-2 9.2.88-1 [49.4 kB]\n",
            "Get:35 file:/var/cuda-repo-9-2-local  cuda-nvgraph-9-2 9.2.88-1 [11.7 MB]\n",
            "Get:36 file:/var/cuda-repo-9-2-local  cuda-nvgraph-dev-9-2 9.2.88-1 [30.0 MB]\n",
            "Get:37 file:/var/cuda-repo-9-2-local  cuda-visual-tools-9-2 9.2.88-1 [396 MB]\n",
            "Get:38 file:/var/cuda-repo-9-2-local  cuda-tools-9-2 9.2.88-1 [2,486 B]\n",
            "Get:39 file:/var/cuda-repo-9-2-local  cuda-samples-9-2 9.2.88-1 [76.3 MB]\n",
            "Get:40 file:/var/cuda-repo-9-2-local  cuda-documentation-9-2 9.2.88-1 [50.4 MB]\n",
            "Get:41 file:/var/cuda-repo-9-2-local  cuda-libraries-dev-9-2 9.2.88-1 [2,598 B]\n",
            "Get:42 file:/var/cuda-repo-9-2-local  cuda-toolkit-9-2 9.2.88-1 [2,828 B]\n",
            "Get:43 file:/var/cuda-repo-9-2-local  cuda-libraries-9-2 9.2.88-1 [2,568 B]\n",
            "Get:44 file:/var/cuda-repo-9-2-local  cuda-runtime-9-2 9.2.88-1 [2,530 B]\n",
            "Get:45 file:/var/cuda-repo-9-2-local  cuda-demo-suite-9-2 9.2.88-1 [3,889 kB]\n",
            "Get:46 file:/var/cuda-repo-9-2-local  cuda-9-2 9.2.88-1 [2,560 B]\n",
            "Extracting templates from packages: 100%\n",
            "Selecting previously unselected package cuda-license-9-2.\n",
            "(Reading database ... 155295 files and directories currently installed.)\n",
            "Preparing to unpack .../00-cuda-license-9-2_9.2.88-1_amd64.deb ...\n",
            "Unpacking cuda-license-9-2 (9.2.88-1) ...\n",
            "Selecting previously unselected package cuda-misc-headers-9-2.\n",
            "Preparing to unpack .../01-cuda-misc-headers-9-2_9.2.88-1_amd64.deb ...\n",
            "Unpacking cuda-misc-headers-9-2 (9.2.88-1) ...\n",
            "Selecting previously unselected package cuda-nvcc-9-2.\n",
            "Preparing to unpack .../02-cuda-nvcc-9-2_9.2.88-1_amd64.deb ...\n",
            "Unpacking cuda-nvcc-9-2 (9.2.88-1) ...\n",
            "Selecting previously unselected package cuda-cuobjdump-9-2.\n",
            "Preparing to unpack .../03-cuda-cuobjdump-9-2_9.2.88-1_amd64.deb ...\n",
            "Unpacking cuda-cuobjdump-9-2 (9.2.88-1) ...\n",
            "Selecting previously unselected package cuda-nvprune-9-2.\n",
            "Preparing to unpack .../04-cuda-nvprune-9-2_9.2.88-1_amd64.deb ...\n",
            "Unpacking cuda-nvprune-9-2 (9.2.88-1) ...\n",
            "Selecting previously unselected package cuda-compiler-9-2.\n",
            "Preparing to unpack .../05-cuda-compiler-9-2_9.2.88-1_amd64.deb ...\n",
            "Unpacking cuda-compiler-9-2 (9.2.88-1) ...\n",
            "Selecting previously unselected package cuda-nvdisasm-9-2.\n",
            "Preparing to unpack .../06-cuda-nvdisasm-9-2_9.2.88-1_amd64.deb ...\n",
            "Unpacking cuda-nvdisasm-9-2 (9.2.88-1) ...\n",
            "Selecting previously unselected package cuda-gdb-9-2.\n",
            "Preparing to unpack .../07-cuda-gdb-9-2_9.2.88-1_amd64.deb ...\n",
            "Unpacking cuda-gdb-9-2 (9.2.88-1) ...\n",
            "Selecting previously unselected package cuda-nvprof-9-2.\n",
            "Preparing to unpack .../08-cuda-nvprof-9-2_9.2.88-1_amd64.deb ...\n",
            "Unpacking cuda-nvprof-9-2 (9.2.88-1) ...\n",
            "Selecting previously unselected package cuda-memcheck-9-2.\n",
            "Preparing to unpack .../09-cuda-memcheck-9-2_9.2.88-1_amd64.deb ...\n",
            "Unpacking cuda-memcheck-9-2 (9.2.88-1) ...\n",
            "Selecting previously unselected package cuda-cudart-9-2.\n",
            "Preparing to unpack .../10-cuda-cudart-9-2_9.2.88-1_amd64.deb ...\n",
            "Unpacking cuda-cudart-9-2 (9.2.88-1) ...\n",
            "Selecting previously unselected package cuda-driver-dev-9-2.\n",
            "Preparing to unpack .../11-cuda-driver-dev-9-2_9.2.88-1_amd64.deb ...\n",
            "Unpacking cuda-driver-dev-9-2 (9.2.88-1) ...\n",
            "Selecting previously unselected package cuda-cudart-dev-9-2.\n",
            "Preparing to unpack .../12-cuda-cudart-dev-9-2_9.2.88-1_amd64.deb ...\n",
            "Unpacking cuda-cudart-dev-9-2 (9.2.88-1) ...\n",
            "Selecting previously unselected package cuda-cupti-9-2.\n",
            "Preparing to unpack .../13-cuda-cupti-9-2_9.2.88-1_amd64.deb ...\n",
            "Unpacking cuda-cupti-9-2 (9.2.88-1) ...\n",
            "Selecting previously unselected package cuda-gpu-library-advisor-9-2.\n",
            "Preparing to unpack .../14-cuda-gpu-library-advisor-9-2_9.2.88-1_amd64.deb ...\n",
            "Unpacking cuda-gpu-library-advisor-9-2 (9.2.88-1) ...\n",
            "Selecting previously unselected package cuda-nvtx-9-2.\n",
            "Preparing to unpack .../15-cuda-nvtx-9-2_9.2.88-1_amd64.deb ...\n",
            "Unpacking cuda-nvtx-9-2 (9.2.88-1) ...\n",
            "Selecting previously unselected package cuda-command-line-tools-9-2.\n",
            "Preparing to unpack .../16-cuda-command-line-tools-9-2_9.2.88-1_amd64.deb ...\n",
            "Unpacking cuda-command-line-tools-9-2 (9.2.88-1) ...\n",
            "Selecting previously unselected package cuda-nsight-9-2.\n",
            "Preparing to unpack .../17-cuda-nsight-9-2_9.2.88-1_amd64.deb ...\n",
            "Unpacking cuda-nsight-9-2 (9.2.88-1) ...\n",
            "Selecting previously unselected package cuda-nvvp-9-2.\n",
            "Preparing to unpack .../18-cuda-nvvp-9-2_9.2.88-1_amd64.deb ...\n",
            "Unpacking cuda-nvvp-9-2 (9.2.88-1) ...\n",
            "Selecting previously unselected package cuda-nvrtc-9-2.\n",
            "Preparing to unpack .../19-cuda-nvrtc-9-2_9.2.88-1_amd64.deb ...\n",
            "Unpacking cuda-nvrtc-9-2 (9.2.88-1) ...\n",
            "Selecting previously unselected package cuda-nvrtc-dev-9-2.\n",
            "Preparing to unpack .../20-cuda-nvrtc-dev-9-2_9.2.88-1_amd64.deb ...\n",
            "Unpacking cuda-nvrtc-dev-9-2 (9.2.88-1) ...\n",
            "Selecting previously unselected package cuda-cusolver-9-2.\n",
            "Preparing to unpack .../21-cuda-cusolver-9-2_9.2.88-1_amd64.deb ...\n",
            "Unpacking cuda-cusolver-9-2 (9.2.88-1) ...\n",
            "Selecting previously unselected package cuda-cusolver-dev-9-2.\n",
            "Preparing to unpack .../22-cuda-cusolver-dev-9-2_9.2.88-1_amd64.deb ...\n",
            "Unpacking cuda-cusolver-dev-9-2 (9.2.88-1) ...\n",
            "Selecting previously unselected package cuda-cublas-9-2.\n",
            "Preparing to unpack .../23-cuda-cublas-9-2_9.2.88-1_amd64.deb ...\n",
            "Unpacking cuda-cublas-9-2 (9.2.88-1) ...\n",
            "Selecting previously unselected package cuda-cublas-dev-9-2.\n",
            "Preparing to unpack .../24-cuda-cublas-dev-9-2_9.2.88-1_amd64.deb ...\n",
            "Unpacking cuda-cublas-dev-9-2 (9.2.88-1) ...\n",
            "Selecting previously unselected package cuda-cufft-9-2.\n",
            "Preparing to unpack .../25-cuda-cufft-9-2_9.2.88-1_amd64.deb ...\n",
            "Unpacking cuda-cufft-9-2 (9.2.88-1) ...\n",
            "Selecting previously unselected package cuda-cufft-dev-9-2.\n",
            "Preparing to unpack .../26-cuda-cufft-dev-9-2_9.2.88-1_amd64.deb ...\n",
            "Unpacking cuda-cufft-dev-9-2 (9.2.88-1) ...\n",
            "Selecting previously unselected package cuda-curand-9-2.\n",
            "Preparing to unpack .../27-cuda-curand-9-2_9.2.88-1_amd64.deb ...\n",
            "Unpacking cuda-curand-9-2 (9.2.88-1) ...\n",
            "Selecting previously unselected package cuda-curand-dev-9-2.\n",
            "Preparing to unpack .../28-cuda-curand-dev-9-2_9.2.88-1_amd64.deb ...\n",
            "Unpacking cuda-curand-dev-9-2 (9.2.88-1) ...\n",
            "Selecting previously unselected package cuda-cusparse-9-2.\n",
            "Preparing to unpack .../29-cuda-cusparse-9-2_9.2.88-1_amd64.deb ...\n",
            "Unpacking cuda-cusparse-9-2 (9.2.88-1) ...\n",
            "Selecting previously unselected package cuda-cusparse-dev-9-2.\n",
            "Preparing to unpack .../30-cuda-cusparse-dev-9-2_9.2.88-1_amd64.deb ...\n",
            "Unpacking cuda-cusparse-dev-9-2 (9.2.88-1) ...\n",
            "Selecting previously unselected package cuda-npp-9-2.\n",
            "Preparing to unpack .../31-cuda-npp-9-2_9.2.88-1_amd64.deb ...\n",
            "Unpacking cuda-npp-9-2 (9.2.88-1) ...\n",
            "Selecting previously unselected package cuda-npp-dev-9-2.\n",
            "Preparing to unpack .../32-cuda-npp-dev-9-2_9.2.88-1_amd64.deb ...\n",
            "Unpacking cuda-npp-dev-9-2 (9.2.88-1) ...\n",
            "Selecting previously unselected package cuda-nvml-dev-9-2.\n",
            "Preparing to unpack .../33-cuda-nvml-dev-9-2_9.2.88-1_amd64.deb ...\n",
            "Unpacking cuda-nvml-dev-9-2 (9.2.88-1) ...\n",
            "Selecting previously unselected package cuda-nvgraph-9-2.\n",
            "Preparing to unpack .../34-cuda-nvgraph-9-2_9.2.88-1_amd64.deb ...\n",
            "Unpacking cuda-nvgraph-9-2 (9.2.88-1) ...\n",
            "Selecting previously unselected package cuda-nvgraph-dev-9-2.\n",
            "Preparing to unpack .../35-cuda-nvgraph-dev-9-2_9.2.88-1_amd64.deb ...\n",
            "Unpacking cuda-nvgraph-dev-9-2 (9.2.88-1) ...\n",
            "Selecting previously unselected package cuda-visual-tools-9-2.\n",
            "Preparing to unpack .../36-cuda-visual-tools-9-2_9.2.88-1_amd64.deb ...\n",
            "Unpacking cuda-visual-tools-9-2 (9.2.88-1) ...\n",
            "Selecting previously unselected package cuda-tools-9-2.\n",
            "Preparing to unpack .../37-cuda-tools-9-2_9.2.88-1_amd64.deb ...\n",
            "Unpacking cuda-tools-9-2 (9.2.88-1) ...\n",
            "Selecting previously unselected package cuda-samples-9-2.\n",
            "Preparing to unpack .../38-cuda-samples-9-2_9.2.88-1_amd64.deb ...\n",
            "Unpacking cuda-samples-9-2 (9.2.88-1) ...\n",
            "Selecting previously unselected package cuda-documentation-9-2.\n",
            "Preparing to unpack .../39-cuda-documentation-9-2_9.2.88-1_amd64.deb ...\n",
            "Unpacking cuda-documentation-9-2 (9.2.88-1) ...\n",
            "Selecting previously unselected package cuda-libraries-dev-9-2.\n",
            "Preparing to unpack .../40-cuda-libraries-dev-9-2_9.2.88-1_amd64.deb ...\n",
            "Unpacking cuda-libraries-dev-9-2 (9.2.88-1) ...\n",
            "Selecting previously unselected package cuda-toolkit-9-2.\n",
            "Preparing to unpack .../41-cuda-toolkit-9-2_9.2.88-1_amd64.deb ...\n",
            "Unpacking cuda-toolkit-9-2 (9.2.88-1) ...\n",
            "Selecting previously unselected package cuda-libraries-9-2.\n",
            "Preparing to unpack .../42-cuda-libraries-9-2_9.2.88-1_amd64.deb ...\n",
            "Unpacking cuda-libraries-9-2 (9.2.88-1) ...\n",
            "Selecting previously unselected package cuda-runtime-9-2.\n",
            "Preparing to unpack .../43-cuda-runtime-9-2_9.2.88-1_amd64.deb ...\n",
            "Unpacking cuda-runtime-9-2 (9.2.88-1) ...\n",
            "Selecting previously unselected package cuda-demo-suite-9-2.\n",
            "Preparing to unpack .../44-cuda-demo-suite-9-2_9.2.88-1_amd64.deb ...\n",
            "Unpacking cuda-demo-suite-9-2 (9.2.88-1) ...\n",
            "Selecting previously unselected package cuda-9-2.\n",
            "Preparing to unpack .../45-cuda-9-2_9.2.88-1_amd64.deb ...\n",
            "Unpacking cuda-9-2 (9.2.88-1) ...\n",
            "Setting up cuda-license-9-2 (9.2.88-1) ...\n",
            "*** LICENSE AGREEMENT ***\n",
            "By using this software you agree to fully comply with the terms and \n",
            "conditions of the EULA (End User License Agreement). The EULA is located\n",
            "at /usr/local/cuda-9.2/doc/EULA.txt. The EULA can also be found at\n",
            "http://docs.nvidia.com/cuda/eula/index.html. If you do not agree to the\n",
            "terms and conditions of the EULA, do not use the software.\n",
            "\n",
            "Setting up cuda-nvprune-9-2 (9.2.88-1) ...\n",
            "Setting up cuda-cudart-9-2 (9.2.88-1) ...\n",
            "Setting up cuda-nvprof-9-2 (9.2.88-1) ...\n",
            "Setting up cuda-nvrtc-9-2 (9.2.88-1) ...\n",
            "Setting up cuda-nvtx-9-2 (9.2.88-1) ...\n",
            "Setting up cuda-cusolver-9-2 (9.2.88-1) ...\n",
            "Setting up cuda-nvml-dev-9-2 (9.2.88-1) ...\n",
            "Setting up cuda-cufft-9-2 (9.2.88-1) ...\n",
            "Setting up cuda-npp-9-2 (9.2.88-1) ...\n",
            "Setting up cuda-misc-headers-9-2 (9.2.88-1) ...\n",
            "Setting up cuda-memcheck-9-2 (9.2.88-1) ...\n",
            "Setting up cuda-npp-dev-9-2 (9.2.88-1) ...\n",
            "Setting up cuda-nvdisasm-9-2 (9.2.88-1) ...\n",
            "Setting up cuda-nvvp-9-2 (9.2.88-1) ...\n",
            "Setting up cuda-nvrtc-dev-9-2 (9.2.88-1) ...\n",
            "Setting up cuda-driver-dev-9-2 (9.2.88-1) ...\n",
            "Setting up cuda-curand-9-2 (9.2.88-1) ...\n",
            "Setting up cuda-cusolver-dev-9-2 (9.2.88-1) ...\n",
            "Setting up cuda-nsight-9-2 (9.2.88-1) ...\n",
            "Setting up cuda-cublas-9-2 (9.2.88-1) ...\n",
            "Setting up cuda-cuobjdump-9-2 (9.2.88-1) ...\n",
            "Setting up cuda-cusparse-9-2 (9.2.88-1) ...\n",
            "Setting up cuda-nvgraph-9-2 (9.2.88-1) ...\n",
            "Setting up cuda-gpu-library-advisor-9-2 (9.2.88-1) ...\n",
            "Setting up cuda-gdb-9-2 (9.2.88-1) ...\n",
            "Setting up cuda-cudart-dev-9-2 (9.2.88-1) ...\n",
            "Setting up cuda-cufft-dev-9-2 (9.2.88-1) ...\n",
            "Setting up cuda-libraries-9-2 (9.2.88-1) ...\n",
            "Setting up cuda-cusparse-dev-9-2 (9.2.88-1) ...\n",
            "Setting up cuda-runtime-9-2 (9.2.88-1) ...\n",
            "Setting up cuda-nvcc-9-2 (9.2.88-1) ...\n",
            "Setting up cuda-cupti-9-2 (9.2.88-1) ...\n",
            "Setting up cuda-cublas-dev-9-2 (9.2.88-1) ...\n",
            "Setting up cuda-nvgraph-dev-9-2 (9.2.88-1) ...\n",
            "Setting up cuda-command-line-tools-9-2 (9.2.88-1) ...\n",
            "Setting up cuda-curand-dev-9-2 (9.2.88-1) ...\n",
            "Setting up cuda-demo-suite-9-2 (9.2.88-1) ...\n",
            "Setting up cuda-visual-tools-9-2 (9.2.88-1) ...\n",
            "Setting up cuda-compiler-9-2 (9.2.88-1) ...\n",
            "Setting up cuda-libraries-dev-9-2 (9.2.88-1) ...\n",
            "Setting up cuda-samples-9-2 (9.2.88-1) ...\n",
            "Setting up cuda-documentation-9-2 (9.2.88-1) ...\n",
            "Setting up cuda-tools-9-2 (9.2.88-1) ...\n",
            "Setting up cuda-toolkit-9-2 (9.2.88-1) ...\n",
            "Setting up cuda-9-2 (9.2.88-1) ...\n",
            "Processing triggers for libc-bin (2.27-3ubuntu1.3) ...\n",
            "/sbin/ldconfig.real: /usr/local/lib/python3.7/dist-packages/ideep4py/lib/libmkldnn.so.0 is not a symbolic link\n",
            "\n"
          ]
        }
      ]
    },
    {
      "cell_type": "code",
      "metadata": {
        "id": "D3haYU616kqw",
        "colab": {
          "base_uri": "https://localhost:8080/"
        },
        "outputId": "088112d9-59ee-4384-9f39-b23bfdaec325"
      },
      "source": [
        "!nvcc --version"
      ],
      "execution_count": 2,
      "outputs": [
        {
          "output_type": "stream",
          "name": "stdout",
          "text": [
            "nvcc: NVIDIA (R) Cuda compiler driver\n",
            "Copyright (c) 2005-2018 NVIDIA Corporation\n",
            "Built on Wed_Apr_11_23:16:29_CDT_2018\n",
            "Cuda compilation tools, release 9.2, V9.2.88\n"
          ]
        }
      ]
    },
    {
      "cell_type": "markdown",
      "metadata": {
        "id": "pN7FUK2is4dU"
      },
      "source": [
        "<br/>"
      ]
    },
    {
      "cell_type": "code",
      "metadata": {
        "id": "6S1V0s1L7i_l",
        "colab": {
          "base_uri": "https://localhost:8080/"
        },
        "outputId": "a87da09c-5cb7-426e-bf9b-5bcde0d79739"
      },
      "source": [
        "!curl https://raw.githubusercontent.com/HeptaDecane/LP1_SEM7/main/CudaSandbox/hello_world.cu --output hello_world.cu"
      ],
      "execution_count": 29,
      "outputs": [
        {
          "output_type": "stream",
          "name": "stdout",
          "text": [
            "  % Total    % Received % Xferd  Average Speed   Time    Time     Time  Current\n",
            "                                 Dload  Upload   Total   Spent    Left  Speed\n",
            "\r  0     0    0     0    0     0      0      0 --:--:-- --:--:-- --:--:--     0\r100   241  100   241    0     0   4462      0 --:--:-- --:--:-- --:--:--  4462\n"
          ]
        }
      ]
    },
    {
      "cell_type": "code",
      "metadata": {
        "id": "JuCoEAcY8Ucr"
      },
      "source": [
        "!nvcc hello_world.cu -o hello_world"
      ],
      "execution_count": 30,
      "outputs": []
    },
    {
      "cell_type": "code",
      "metadata": {
        "id": "QBaPZ_oZ8eQd",
        "colab": {
          "base_uri": "https://localhost:8080/"
        },
        "outputId": "d7490c17-708d-4dcb-b7ad-5fe028550611"
      },
      "source": [
        "!nvprof ./hello_world"
      ],
      "execution_count": 31,
      "outputs": [
        {
          "output_type": "stream",
          "name": "stdout",
          "text": [
            "Hello World!\n",
            "==2383== NVPROF is profiling process 2383, command: ./hello_world\n",
            "Hello from block 2, thread 0\n",
            "Hello from block 2, thread 1\n",
            "Hello from block 2, thread 2\n",
            "Hello from block 2, thread 3\n",
            "Hello from block 2, thread 4\n",
            "Hello from block 2, thread 5\n",
            "Hello from block 2, thread 6\n",
            "Hello from block 2, thread 7\n",
            "Hello from block 3, thread 0\n",
            "Hello from block 3, thread 1\n",
            "Hello from block 3, thread 2\n",
            "Hello from block 3, thread 3\n",
            "Hello from block 3, thread 4\n",
            "Hello from block 3, thread 5\n",
            "Hello from block 3, thread 6\n",
            "Hello from block 3, thread 7\n",
            "Hello from block 0, thread 0\n",
            "Hello from block 0, thread 1\n",
            "Hello from block 0, thread 2\n",
            "Hello from block 0, thread 3\n",
            "Hello from block 0, thread 4\n",
            "Hello from block 0, thread 5\n",
            "Hello from block 0, thread 6\n",
            "Hello from block 0, thread 7\n",
            "Hello from block 1, thread 0\n",
            "Hello from block 1, thread 1\n",
            "Hello from block 1, thread 2\n",
            "Hello from block 1, thread 3\n",
            "Hello from block 1, thread 4\n",
            "Hello from block 1, thread 5\n",
            "Hello from block 1, thread 6\n",
            "Hello from block 1, thread 7\n",
            "==2383== Profiling application: ./hello_world\n",
            "==2383== Profiling result:\n",
            "            Type  Time(%)      Time     Calls       Avg       Min       Max  Name\n",
            " GPU activities:  100.00%  183.84us         1  183.84us  183.84us  183.84us  cuda_hello(void)\n",
            "      API calls:   99.47%  200.87ms         1  200.87ms  200.87ms  200.87ms  cudaLaunchKernel\n",
            "                    0.25%  501.84us         1  501.84us  501.84us  501.84us  cuDeviceTotalMem\n",
            "                    0.15%  307.22us         1  307.22us  307.22us  307.22us  cudaDeviceSynchronize\n",
            "                    0.11%  230.51us        96  2.4010us     122ns  93.058us  cuDeviceGetAttribute\n",
            "                    0.01%  25.759us         1  25.759us  25.759us  25.759us  cuDeviceGetName\n",
            "                    0.00%  5.7110us         1  5.7110us  5.7110us  5.7110us  cuDeviceGetPCIBusId\n",
            "                    0.00%  1.7470us         3     582ns     113ns     864ns  cuDeviceGetCount\n",
            "                    0.00%  1.2210us         2     610ns     241ns     980ns  cuDeviceGet\n"
          ]
        }
      ]
    },
    {
      "cell_type": "markdown",
      "metadata": {
        "id": "Y-bZ4G7huCyy"
      },
      "source": [
        "<br/>"
      ]
    },
    {
      "cell_type": "code",
      "metadata": {
        "id": "-y05_AEAuBeu",
        "colab": {
          "base_uri": "https://localhost:8080/"
        },
        "outputId": "00aa991b-d32d-4145-ad4d-362144a2a2b7"
      },
      "source": [
        "!curl https://raw.githubusercontent.com/HeptaDecane/LP1_SEM7/main/CudaSandbox/vector_add.cu --output vector_add.cu"
      ],
      "execution_count": null,
      "outputs": [
        {
          "output_type": "stream",
          "name": "stdout",
          "text": [
            "  % Total    % Received % Xferd  Average Speed   Time    Time     Time  Current\n",
            "                                 Dload  Upload   Total   Spent    Left  Speed\n",
            "\r  0     0    0     0    0     0      0      0 --:--:-- --:--:-- --:--:--     0\r100  2101  100  2101    0     0  47750      0 --:--:-- --:--:-- --:--:-- 47750\n"
          ]
        }
      ]
    },
    {
      "cell_type": "code",
      "metadata": {
        "id": "ZqPmLy4luHL5"
      },
      "source": [
        "!nvcc vector_add.cu -o vector_add"
      ],
      "execution_count": null,
      "outputs": []
    },
    {
      "cell_type": "code",
      "metadata": {
        "id": "UJuFZNIc5RAb",
        "colab": {
          "base_uri": "https://localhost:8080/"
        },
        "outputId": "26a5c668-1ab6-40e6-a294-bef732684f2c"
      },
      "source": [
        "!nvprof ./vector_add"
      ],
      "execution_count": null,
      "outputs": [
        {
          "output_type": "stream",
          "name": "stdout",
          "text": [
            "==4420== NVPROF is profiling process 4420, command: ./vector_add\n",
            "\n",
            "---------------------------\n",
            "__SUCCESS__\n",
            "---------------------------\n",
            "N                 = 1048576\n",
            "Threads Per Block = 256\n",
            "Blocks In Grid    = 4096\n",
            "---------------------------\n",
            "\n",
            "==4420== Profiling application: ./vector_add\n",
            "==4420== Profiling result:\n",
            "            Type  Time(%)      Time     Calls       Avg       Min       Max  Name\n",
            " GPU activities:   63.53%  4.2679ms         1  4.2679ms  4.2679ms  4.2679ms  [CUDA memcpy DtoH]\n",
            "                   33.58%  2.2560ms         2  1.1280ms  1.1269ms  1.1291ms  [CUDA memcpy HtoD]\n",
            "                    2.88%  193.54us         1  193.54us  193.54us  193.54us  add_vectors(double*, double*, double*)\n",
            "      API calls:   94.85%  211.21ms         3  70.404ms  235.05us  210.68ms  cudaMalloc\n",
            "                    3.58%  7.9772ms         3  2.6591ms  1.0825ms  5.5932ms  cudaMemcpy\n",
            "                    1.11%  2.4701ms         3  823.37us  229.37us  1.1210ms  cudaFree\n",
            "                    0.21%  471.83us         1  471.83us  471.83us  471.83us  cuDeviceTotalMem\n",
            "                    0.13%  286.43us         1  286.43us  286.43us  286.43us  cudaLaunchKernel\n",
            "                    0.10%  229.98us        96  2.3950us     135ns  108.74us  cuDeviceGetAttribute\n",
            "                    0.01%  25.870us         1  25.870us  25.870us  25.870us  cuDeviceGetName\n",
            "                    0.00%  7.5150us         1  7.5150us  7.5150us  7.5150us  cuDeviceGetPCIBusId\n",
            "                    0.00%  2.0010us         3     667ns     172ns     920ns  cuDeviceGetCount\n",
            "                    0.00%  1.8290us         2     914ns     366ns  1.4630us  cuDeviceGet\n"
          ]
        }
      ]
    }
  ]
}