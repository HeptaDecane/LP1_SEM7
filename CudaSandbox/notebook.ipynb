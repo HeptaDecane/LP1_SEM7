{
  "nbformat": 4,
  "nbformat_minor": 0,
  "metadata": {
    "colab": {
      "name": "notebook.ipynb",
      "provenance": [],
      "authorship_tag": "ABX9TyOZQ/1Q8J7VTHub02zcbWIx",
      "include_colab_link": true
    },
    "kernelspec": {
      "name": "python3",
      "display_name": "Python 3"
    },
    "language_info": {
      "name": "python"
    },
    "accelerator": "GPU"
  },
  "cells": [
    {
      "cell_type": "markdown",
      "metadata": {
        "id": "view-in-github",
        "colab_type": "text"
      },
      "source": [
        "<a href=\"https://colab.research.google.com/github/HeptaDecane/LP1_SEM7/blob/main/CudaSandbox/notebook.ipynb\" target=\"_parent\"><img src=\"https://colab.research.google.com/assets/colab-badge.svg\" alt=\"Open In Colab\"/></a>"
      ]
    },
    {
      "cell_type": "code",
      "metadata": {
        "id": "9ubbOU5nOb63",
        "colab": {
          "base_uri": "https://localhost:8080/"
        },
        "outputId": "1af3ce47-3e5d-4833-dd1a-661ae7232d0f"
      },
      "source": [
        "!wget https://developer.nvidia.com/compute/cuda/9.2/Prod/local_installers/cuda-repo-ubuntu1604-9-2-local_9.2.88-1_amd64 -O cuda-repo-ubuntu1604-9-2-local_9.2.88-1_amd64.deb\n",
        "!dpkg -i cuda-repo-ubuntu1604-9-2-local_9.2.88-1_amd64.deb\n",
        "!apt-key add /var/cuda-repo-9-2-local/7fa2af80.pub\n",
        "!apt-get update\n",
        "!apt-get install cuda-9.2"
      ],
      "execution_count": 1,
      "outputs": [
        {
          "output_type": "stream",
          "name": "stdout",
          "text": [
            "--2021-11-25 21:00:33--  https://developer.nvidia.com/compute/cuda/9.2/Prod/local_installers/cuda-repo-ubuntu1604-9-2-local_9.2.88-1_amd64\n",
            "Resolving developer.nvidia.com (developer.nvidia.com)... 152.195.19.142\n",
            "Connecting to developer.nvidia.com (developer.nvidia.com)|152.195.19.142|:443... connected.\n",
            "HTTP request sent, awaiting response... 301 Moved Permanently\n",
            "Location: https://developer.nvidia.com/compute/cuda/9.2/prod/local_installers/cuda-repo-ubuntu1604-9-2-local_9.2.88-1_amd64 [following]\n",
            "--2021-11-25 21:00:33--  https://developer.nvidia.com/compute/cuda/9.2/prod/local_installers/cuda-repo-ubuntu1604-9-2-local_9.2.88-1_amd64\n",
            "Reusing existing connection to developer.nvidia.com:443.\n",
            "HTTP request sent, awaiting response... 302 Found\n",
            "Location: https://developer.download.nvidia.com/compute/cuda/9.2/secure/Prod/local_installers/cuda-repo-ubuntu1604-9-2-local_9.2.88-1_amd64.deb?Uk0-QTvliBgZVZn7c3ddrBeapuVZGMngfA6UZ9xaGQYdZlOoqCUjJDpXj6GctU3T6BpqbyyLe4wGcz4ZvOhdIeWmEkYiw-dAi7aONMqnYpjhe_4uVkJoRr15ZayY8vZ6MnGQhbx85KJOMGPSRySDSUdHOn4WAA6R6ilRUxl1ngOXFrQdZFi2fagIO9NIENTUwYsqWJLiZnXx_K4Q-bY [following]\n",
            "--2021-11-25 21:00:34--  https://developer.download.nvidia.com/compute/cuda/9.2/secure/Prod/local_installers/cuda-repo-ubuntu1604-9-2-local_9.2.88-1_amd64.deb?Uk0-QTvliBgZVZn7c3ddrBeapuVZGMngfA6UZ9xaGQYdZlOoqCUjJDpXj6GctU3T6BpqbyyLe4wGcz4ZvOhdIeWmEkYiw-dAi7aONMqnYpjhe_4uVkJoRr15ZayY8vZ6MnGQhbx85KJOMGPSRySDSUdHOn4WAA6R6ilRUxl1ngOXFrQdZFi2fagIO9NIENTUwYsqWJLiZnXx_K4Q-bY\n",
            "Resolving developer.download.nvidia.com (developer.download.nvidia.com)... 152.195.19.142\n",
            "Connecting to developer.download.nvidia.com (developer.download.nvidia.com)|152.195.19.142|:443... connected.\n",
            "HTTP request sent, awaiting response... 200 OK\n",
            "Length: 1267391958 (1.2G) [application/x-deb]\n",
            "Saving to: ‘cuda-repo-ubuntu1604-9-2-local_9.2.88-1_amd64.deb’\n",
            "\n",
            "cuda-repo-ubuntu160 100%[===================>]   1.18G   148MB/s    in 8.1s    \n",
            "\n",
            "2021-11-25 21:00:42 (149 MB/s) - ‘cuda-repo-ubuntu1604-9-2-local_9.2.88-1_amd64.deb’ saved [1267391958/1267391958]\n",
            "\n",
            "(Reading database ... 165398 files and directories currently installed.)\n",
            "Preparing to unpack cuda-repo-ubuntu1604-9-2-local_9.2.88-1_amd64.deb ...\n",
            "Unpacking cuda-repo-ubuntu1604-9-2-local (9.2.88-1) over (9.2.88-1) ...\n",
            "Setting up cuda-repo-ubuntu1604-9-2-local (9.2.88-1) ...\n",
            "OK\n",
            "Get:1 file:/var/cuda-repo-9-2-local  InRelease\n",
            "Ign:1 file:/var/cuda-repo-9-2-local  InRelease\n",
            "Get:2 file:/var/cuda-repo-9-2-local  Release [574 B]\n",
            "Get:2 file:/var/cuda-repo-9-2-local  Release [574 B]\n",
            "Hit:3 https://cloud.r-project.org/bin/linux/ubuntu bionic-cran40/ InRelease\n",
            "Ign:4 https://developer.download.nvidia.com/compute/cuda/repos/ubuntu1804/x86_64  InRelease\n",
            "Hit:5 http://ppa.launchpad.net/c2d4u.team/c2d4u4.0+/ubuntu bionic InRelease\n",
            "Ign:6 https://developer.download.nvidia.com/compute/machine-learning/repos/ubuntu1804/x86_64  InRelease\n",
            "Hit:8 https://developer.download.nvidia.com/compute/cuda/repos/ubuntu1804/x86_64  Release\n",
            "Get:9 http://security.ubuntu.com/ubuntu bionic-security InRelease [88.7 kB]\n",
            "Hit:10 https://developer.download.nvidia.com/compute/machine-learning/repos/ubuntu1804/x86_64  Release\n",
            "Hit:11 http://archive.ubuntu.com/ubuntu bionic InRelease\n",
            "Get:12 http://archive.ubuntu.com/ubuntu bionic-updates InRelease [88.7 kB]\n",
            "Hit:13 http://ppa.launchpad.net/cran/libgit2/ubuntu bionic InRelease\n",
            "Hit:14 http://ppa.launchpad.net/deadsnakes/ppa/ubuntu bionic InRelease\n",
            "Get:16 http://archive.ubuntu.com/ubuntu bionic-backports InRelease [74.6 kB]\n",
            "Hit:17 http://ppa.launchpad.net/graphics-drivers/ppa/ubuntu bionic InRelease\n",
            "Fetched 252 kB in 2s (114 kB/s)\n",
            "Reading package lists... Done\n",
            "Reading package lists... Done\n",
            "Building dependency tree       \n",
            "Reading state information... Done\n",
            "Note, selecting 'cuda-9-2' for regex 'cuda-9.2'\n",
            "Note, selecting 'libcuda-9.2-1' for regex 'cuda-9.2'\n",
            "cuda-9-2 is already the newest version (9.2.88-1).\n",
            "0 upgraded, 0 newly installed, 0 to remove and 39 not upgraded.\n"
          ]
        }
      ]
    },
    {
      "cell_type": "code",
      "metadata": {
        "id": "D3haYU616kqw",
        "colab": {
          "base_uri": "https://localhost:8080/"
        },
        "outputId": "666cd23b-1aeb-4171-c2bf-dbe15edfd55f"
      },
      "source": [
        "!nvcc --version"
      ],
      "execution_count": 2,
      "outputs": [
        {
          "output_type": "stream",
          "name": "stdout",
          "text": [
            "nvcc: NVIDIA (R) Cuda compiler driver\n",
            "Copyright (c) 2005-2018 NVIDIA Corporation\n",
            "Built on Wed_Apr_11_23:16:29_CDT_2018\n",
            "Cuda compilation tools, release 9.2, V9.2.88\n"
          ]
        }
      ]
    },
    {
      "cell_type": "markdown",
      "metadata": {
        "id": "pN7FUK2is4dU"
      },
      "source": [
        "<br/>"
      ]
    },
    {
      "cell_type": "code",
      "metadata": {
        "id": "6S1V0s1L7i_l",
        "outputId": "734b1553-27bd-4c93-e652-cd0887a7dd50",
        "colab": {
          "base_uri": "https://localhost:8080/"
        }
      },
      "source": [
        "!curl https://raw.githubusercontent.com/HeptaDecane/LP1_SEM7/main/CudaSandbox/hello_world.cu --output hello_world.cu"
      ],
      "execution_count": 3,
      "outputs": [
        {
          "output_type": "stream",
          "name": "stdout",
          "text": [
            "  % Total    % Received % Xferd  Average Speed   Time    Time     Time  Current\n",
            "                                 Dload  Upload   Total   Spent    Left  Speed\n",
            "100   187  100   187    0     0   1214      0 --:--:-- --:--:-- --:--:--  1214\n"
          ]
        }
      ]
    },
    {
      "cell_type": "code",
      "metadata": {
        "id": "JuCoEAcY8Ucr"
      },
      "source": [
        "!nvcc hello_world.cu -o hello_world"
      ],
      "execution_count": 4,
      "outputs": []
    },
    {
      "cell_type": "code",
      "metadata": {
        "id": "QBaPZ_oZ8eQd",
        "colab": {
          "base_uri": "https://localhost:8080/"
        },
        "outputId": "e7236ab6-4a77-4e5d-a91e-00637748b3a7"
      },
      "source": [
        "!nvprof ./hello_world"
      ],
      "execution_count": 5,
      "outputs": [
        {
          "output_type": "stream",
          "name": "stdout",
          "text": [
            "Hello World from CPU!\n",
            "==4370== NVPROF is profiling process 4370, command: ./hello_world\n",
            "Hello World from GPU!\n",
            "==4370== Profiling application: ./hello_world\n",
            "==4370== Profiling result:\n",
            "            Type  Time(%)      Time     Calls       Avg       Min       Max  Name\n",
            " GPU activities:  100.00%  127.65us         1  127.65us  127.65us  127.65us  cuda_hello(void)\n",
            "      API calls:   99.68%  210.54ms         1  210.54ms  210.54ms  210.54ms  cudaLaunchKernel\n",
            "                    0.20%  427.18us         1  427.18us  427.18us  427.18us  cuDeviceTotalMem\n",
            "                    0.11%  222.88us        96  2.3210us     107ns  100.12us  cuDeviceGetAttribute\n",
            "                    0.01%  26.703us         1  26.703us  26.703us  26.703us  cuDeviceGetName\n",
            "                    0.00%  6.1620us         1  6.1620us  6.1620us  6.1620us  cuDeviceGetPCIBusId\n",
            "                    0.00%  1.8820us         3     627ns     229ns     885ns  cuDeviceGetCount\n",
            "                    0.00%  1.6140us         2     807ns     422ns  1.1920us  cuDeviceGet\n"
          ]
        }
      ]
    },
    {
      "cell_type": "markdown",
      "metadata": {
        "id": "Y-bZ4G7huCyy"
      },
      "source": [
        "<br/>"
      ]
    },
    {
      "cell_type": "code",
      "metadata": {
        "id": "-y05_AEAuBeu",
        "outputId": "00aa991b-d32d-4145-ad4d-362144a2a2b7",
        "colab": {
          "base_uri": "https://localhost:8080/"
        }
      },
      "source": [
        "!curl https://raw.githubusercontent.com/HeptaDecane/LP1_SEM7/main/CudaSandbox/vector_add.cu --output vector_add.cu"
      ],
      "execution_count": 6,
      "outputs": [
        {
          "output_type": "stream",
          "name": "stdout",
          "text": [
            "  % Total    % Received % Xferd  Average Speed   Time    Time     Time  Current\n",
            "                                 Dload  Upload   Total   Spent    Left  Speed\n",
            "\r  0     0    0     0    0     0      0      0 --:--:-- --:--:-- --:--:--     0\r100  2101  100  2101    0     0  47750      0 --:--:-- --:--:-- --:--:-- 47750\n"
          ]
        }
      ]
    },
    {
      "cell_type": "code",
      "metadata": {
        "id": "ZqPmLy4luHL5"
      },
      "source": [
        "!nvcc vector_add.cu -o vector_add"
      ],
      "execution_count": 7,
      "outputs": []
    },
    {
      "cell_type": "code",
      "metadata": {
        "id": "UJuFZNIc5RAb",
        "outputId": "26a5c668-1ab6-40e6-a294-bef732684f2c",
        "colab": {
          "base_uri": "https://localhost:8080/"
        }
      },
      "source": [
        "!nvprof ./vector_add"
      ],
      "execution_count": 8,
      "outputs": [
        {
          "output_type": "stream",
          "name": "stdout",
          "text": [
            "==4420== NVPROF is profiling process 4420, command: ./vector_add\n",
            "\n",
            "---------------------------\n",
            "__SUCCESS__\n",
            "---------------------------\n",
            "N                 = 1048576\n",
            "Threads Per Block = 256\n",
            "Blocks In Grid    = 4096\n",
            "---------------------------\n",
            "\n",
            "==4420== Profiling application: ./vector_add\n",
            "==4420== Profiling result:\n",
            "            Type  Time(%)      Time     Calls       Avg       Min       Max  Name\n",
            " GPU activities:   63.53%  4.2679ms         1  4.2679ms  4.2679ms  4.2679ms  [CUDA memcpy DtoH]\n",
            "                   33.58%  2.2560ms         2  1.1280ms  1.1269ms  1.1291ms  [CUDA memcpy HtoD]\n",
            "                    2.88%  193.54us         1  193.54us  193.54us  193.54us  add_vectors(double*, double*, double*)\n",
            "      API calls:   94.85%  211.21ms         3  70.404ms  235.05us  210.68ms  cudaMalloc\n",
            "                    3.58%  7.9772ms         3  2.6591ms  1.0825ms  5.5932ms  cudaMemcpy\n",
            "                    1.11%  2.4701ms         3  823.37us  229.37us  1.1210ms  cudaFree\n",
            "                    0.21%  471.83us         1  471.83us  471.83us  471.83us  cuDeviceTotalMem\n",
            "                    0.13%  286.43us         1  286.43us  286.43us  286.43us  cudaLaunchKernel\n",
            "                    0.10%  229.98us        96  2.3950us     135ns  108.74us  cuDeviceGetAttribute\n",
            "                    0.01%  25.870us         1  25.870us  25.870us  25.870us  cuDeviceGetName\n",
            "                    0.00%  7.5150us         1  7.5150us  7.5150us  7.5150us  cuDeviceGetPCIBusId\n",
            "                    0.00%  2.0010us         3     667ns     172ns     920ns  cuDeviceGetCount\n",
            "                    0.00%  1.8290us         2     914ns     366ns  1.4630us  cuDeviceGet\n"
          ]
        }
      ]
    }
  ]
}