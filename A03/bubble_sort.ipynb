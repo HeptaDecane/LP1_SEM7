{
  "nbformat": 4,
  "nbformat_minor": 0,
  "metadata": {
    "colab": {
      "name": "parallel_reduction.ipynb",
      "provenance": [],
      "authorship_tag": "ABX9TyOr7CNHav/mmzLEJ2pyYTDF",
      "include_colab_link": true
    },
    "kernelspec": {
      "name": "python3",
      "display_name": "Python 3"
    },
    "language_info": {
      "name": "python"
    },
    "accelerator": "GPU"
  },
  "cells": [
    {
      "cell_type": "markdown",
      "metadata": {
        "id": "view-in-github",
        "colab_type": "text"
      },
      "source": [
        "<a href=\"https://colab.research.google.com/github/HeptaDecane/LP1_SEM7/blob/main/HPC/A03/bubble_sort.ipynb\" target=\"_parent\"><img src=\"https://colab.research.google.com/assets/colab-badge.svg\" alt=\"Open In Colab\"/></a>"
      ]
    },
    {
      "cell_type": "code",
      "metadata": {
        "id": "D3haYU616kqw",
        "outputId": "a9670444-2dc3-47bd-9987-65311e806cf4",
        "colab": {
          "base_uri": "https://localhost:8080/"
        }
      },
      "source": [
        "!nvcc --version"
      ],
      "execution_count": 1,
      "outputs": [
        {
          "output_type": "stream",
          "name": "stdout",
          "text": [
            "nvcc: NVIDIA (R) Cuda compiler driver\n",
            "Copyright (c) 2005-2020 NVIDIA Corporation\n",
            "Built on Mon_Oct_12_20:09:46_PDT_2020\n",
            "Cuda compilation tools, release 11.1, V11.1.105\n",
            "Build cuda_11.1.TC455_06.29190527_0\n"
          ]
        }
      ]
    },
    {
      "cell_type": "code",
      "metadata": {
        "id": "IYh9iAiSwcue"
      },
      "source": [
        "code = \"\"\"\n",
        "#include<omp.h>\n",
        "#include<iostream>\n",
        "using namespace std;\n",
        "\n",
        "void swap(int *num1, int *num2) {\n",
        "    int temp = *num1;\n",
        "    *num1 = *num2;\n",
        "    *num2 = temp;\n",
        "}\n",
        "\n",
        "int main() {\n",
        "    int n = 10;\n",
        "    int a[n];\n",
        "    \n",
        "    omp_set_num_threads(2);\n",
        "    \n",
        "    for(int i=0; i<n; i++) {\n",
        "        a[i] = rand()% 100;\n",
        "    }\n",
        "    \n",
        "    for(int i=0; i<n; i++) \n",
        "        cout<<\"  \"<<a[i];\n",
        "    cout<<endl;\n",
        "    \n",
        "    int i=0, j=0;\n",
        "    int first=0;\n",
        "    double start, end;\n",
        "    \n",
        "    start = omp_get_wtime();\n",
        "    for(i=0; i<n-1; i++) {\n",
        "        first = i%2;\n",
        "        #pragma omp parallel for\n",
        "        for(j=first; j<n-1; j++) {\n",
        "            if(a[j] > a[j+1])\n",
        "              swap(&a[j], &a[j+1]);\n",
        "        }\n",
        "    }\n",
        "    \n",
        "    end = omp_get_wtime();\n",
        "    cout<<\"Result(parallel) : \"<<endl;\n",
        "    for(i=0; i<n; i++)\n",
        "      cout<<\"  \"<<a[i];\n",
        "    cout<<endl;\n",
        "    \n",
        "    cout<<\"Time parallel = \"<<(end-start)<<endl;\n",
        "    \n",
        "    return 0;\n",
        "    \n",
        "}\n",
        "\"\"\""
      ],
      "execution_count": 2,
      "outputs": []
    },
    {
      "cell_type": "code",
      "metadata": {
        "id": "Jy9CmFSjwnWa"
      },
      "source": [
        "file = open('bubble_sort.cpp','w')\n",
        "file.write(code)\n",
        "file.close()"
      ],
      "execution_count": 3,
      "outputs": []
    },
    {
      "cell_type": "code",
      "metadata": {
        "id": "bHG-aQkFw_YJ"
      },
      "source": [
        "!g++ -fopenmp bubble_sort.cpp"
      ],
      "execution_count": 4,
      "outputs": []
    },
    {
      "cell_type": "code",
      "metadata": {
        "id": "nygz-yevxB8H",
        "outputId": "d8c2e164-e576-4e56-9504-cbc77ba336f5",
        "colab": {
          "base_uri": "https://localhost:8080/"
        }
      },
      "source": [
        "!./a.out"
      ],
      "execution_count": 5,
      "outputs": [
        {
          "output_type": "stream",
          "name": "stdout",
          "text": [
            "  83  86  77  15  93  35  86  92  49  21\n",
            "Result(parallel) : \n",
            "  15  21  35  49  77  83  86  86  92  93\n",
            "Time parallel = 0.000155211\n"
          ]
        }
      ]
    }
  ]
}