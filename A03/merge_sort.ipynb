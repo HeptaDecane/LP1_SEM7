{
  "nbformat": 4,
  "nbformat_minor": 0,
  "metadata": {
    "colab": {
      "name": "merge_sort.ipynb",
      "provenance": [],
      "authorship_tag": "ABX9TyPYhYFriVN1Broz08FWQY9e",
      "include_colab_link": true
    },
    "kernelspec": {
      "name": "python3",
      "display_name": "Python 3"
    },
    "language_info": {
      "name": "python"
    },
    "accelerator": "GPU"
  },
  "cells": [
    {
      "cell_type": "markdown",
      "metadata": {
        "id": "view-in-github",
        "colab_type": "text"
      },
      "source": [
        "<a href=\"https://colab.research.google.com/github/HeptaDecane/LP1_SEM7/blob/main/A03/merge_sort.ipynb\" target=\"_parent\"><img src=\"https://colab.research.google.com/assets/colab-badge.svg\" alt=\"Open In Colab\"/></a>"
      ]
    },
    {
      "cell_type": "code",
      "metadata": {
        "id": "D3haYU616kqw",
        "outputId": "54b8531b-ba63-4a2f-ed25-96e568dfbb42",
        "colab": {
          "base_uri": "https://localhost:8080/"
        }
      },
      "source": [
        "!nvcc --version"
      ],
      "execution_count": 1,
      "outputs": [
        {
          "output_type": "stream",
          "name": "stdout",
          "text": [
            "nvcc: NVIDIA (R) Cuda compiler driver\n",
            "Copyright (c) 2005-2020 NVIDIA Corporation\n",
            "Built on Mon_Oct_12_20:09:46_PDT_2020\n",
            "Cuda compilation tools, release 11.1, V11.1.105\n",
            "Build cuda_11.1.TC455_06.29190527_0\n"
          ]
        }
      ]
    },
    {
      "cell_type": "code",
      "metadata": {
        "id": "JO77em5hx9NJ"
      },
      "source": [
        "code = \"\"\"\n",
        "#include<iostream>\n",
        "#include<omp.h>\n",
        "\n",
        "using namespace std;\n",
        "\n",
        "void printArray(int *arr, int size) {\n",
        "    for(int i=0; i<size; i++) {\n",
        "         cout<<arr[i]<<\"  \";\n",
        "    }\n",
        "    cout<<endl;\n",
        "}\n",
        "\n",
        "void merge(int* arr, int start, int mid, int end) {\n",
        "    int len = (end - start) + 1;\n",
        "    int temp[len];\n",
        "    int cur = 0;\n",
        "    \n",
        "    int i = start;\n",
        "    int j = mid + 1;\n",
        "    while(i <= mid && j <= end){\n",
        "        if(arr[i] < arr[j]) {\n",
        "            temp[cur] = arr[i];\n",
        "            cur++;\n",
        "            i++;\n",
        "        }\n",
        "        else {\n",
        "            temp[cur] = arr[j];\n",
        "            cur++;\n",
        "            j++;\n",
        "        }\n",
        "    }\n",
        "    if(i <= mid) {\n",
        "        while(i <= mid) {\n",
        "            temp[cur] = arr[i];\n",
        "            i++;\n",
        "            cur++;\n",
        "        }\n",
        "    }\n",
        "    \n",
        "    else if(j <= end) {\n",
        "        while(j <= end) {\n",
        "            temp[cur] = arr[j];\n",
        "            j++;\n",
        "            cur++;\n",
        "        }\n",
        "    }\n",
        "    \n",
        "    cur = 0;\n",
        "    for(i=start; i<=end; i++) {\n",
        "        arr[i] = temp[cur];\n",
        "        cur++;\n",
        "    }\n",
        "\n",
        "}\n",
        "\n",
        "void mergeSort(int *arr, int start, int end) {\n",
        "    if(start < end) {\n",
        "        int mid = (start+end) / 2;\n",
        "        \n",
        "        #pragma omp parallel sections\n",
        "        {\n",
        "            #pragma omp section\n",
        "            mergeSort(arr, start, mid);\n",
        "            \n",
        "            #pragma omp section\n",
        "            mergeSort(arr, mid+1, end);\n",
        "        }\n",
        "        \n",
        "        merge(arr, start, mid, end);\n",
        "    \n",
        "    }\n",
        "}\n",
        "\n",
        "int main(int argc, char *argv[]) {\n",
        "    int size = 10;\n",
        "    int a[size];\n",
        "    \n",
        "    double start, end;\n",
        "    \n",
        "    omp_set_num_threads(2);\n",
        "    \n",
        "    for(int i=0; i<size; i++) {\n",
        "        a[i] = rand()% 100;\n",
        "    }\n",
        "    \n",
        "    //int a[]= {7,33,5,5,23,111,75,34,77,121,120};\n",
        "    \n",
        "    for(int i=0; i<size; i++) \n",
        "        cout<<\"  \"<<a[i];\n",
        "    cout<<endl;\n",
        "    start = omp_get_wtime();\n",
        "    \n",
        "    mergeSort(a, 0, size-1);\n",
        "    \n",
        "    printArray(a, size);\n",
        "    \n",
        "    end = omp_get_wtime();\n",
        "    \n",
        "    cout<<\"Time parallel = \"<<(end-start)<<endl;\n",
        "    \n",
        "    return 0;\n",
        "}\n",
        "\"\"\""
      ],
      "execution_count": 2,
      "outputs": []
    },
    {
      "cell_type": "code",
      "metadata": {
        "id": "pFRTeI3JyHQN"
      },
      "source": [
        "file = open('merge_sort.cpp','w')\n",
        "file.write(code)\n",
        "file.close()"
      ],
      "execution_count": 3,
      "outputs": []
    },
    {
      "cell_type": "code",
      "metadata": {
        "id": "H2BWGUUpyM_y"
      },
      "source": [
        "!g++ -fopenmp merge_sort.cpp"
      ],
      "execution_count": 4,
      "outputs": []
    },
    {
      "cell_type": "code",
      "metadata": {
        "id": "CIvfXz1hyVy2",
        "outputId": "a8ea592d-4169-494b-9a6d-b4a002cbae7e",
        "colab": {
          "base_uri": "https://localhost:8080/"
        }
      },
      "source": [
        "!./a.out"
      ],
      "execution_count": 5,
      "outputs": [
        {
          "output_type": "stream",
          "name": "stdout",
          "text": [
            "  83  86  77  15  93  35  86  92  49  21\n",
            "15  21  35  49  77  83  86  86  92  93  \n",
            "Time parallel = 0.000126784\n"
          ]
        }
      ]
    }
  ]
}